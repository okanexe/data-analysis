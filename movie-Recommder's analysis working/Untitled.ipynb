{
 "cells": [
  {
   "cell_type": "code",
   "execution_count": 26,
   "metadata": {},
   "outputs": [],
   "source": [
    "Biography=['life', 'story', 'true', 'young', 'during', 'love', 'documentary', 'This', 'family', 'movie', 'Based',\n",
    "           'lives', 'early', 'career', 'time', 'famous', 'rise', 'John', 'father', 'tells', 'legendary', 'against',\n",
    "           'director', 'relationship', 'based', 'American', 'were', 'life,', 'made', 'music']\n",
    "\n",
    "\n",
    "Action=['young', 'against', 'life', 'help', 'police', 'time', 'group', 'stop', 'story', 'love', 'save', 'evil', 'team', \n",
    "        'former', 'gang', 'takes', 'battle', 'down', 'fight', 'agent', 'named', 'death', 'mysterious', 'kill', \n",
    "        'discovers', 'goes', 'mission', 'comes', 'during', 'family']\n",
    "\n",
    "\n",
    "Romance=['love', 'young', 'life', 'woman', 'story', 'falls', 'meets', 'family', 'each', 'lives', 'girl', 'friends', \n",
    "         'relationship', 'both', 'mother', 'best', 'time', 'him.', 'takes', 'father', 'decides', 'begins', 'wants', \n",
    "         'living', 'goes', 'comes', 'life.', 'three', 'home', 'school']\n",
    "\n",
    "\n",
    "Musical=['love', 'young', 'story', 'musical', 'family', 'life', 'falls', 'meets', 'married', 'named', 'three', 'very', \n",
    "         'daughter', 'This', 'girl', 'lives', 'live', 'woman', 'death', 'both', 'wife', 'father', 'marriage', 'together', \n",
    "         'takes', 'love.', 'time', 'him.', 'wealthy', 'comes']\n",
    "\n",
    "\n",
    "Animation=['young', 'named', 'animated', 'save', 'time', 'story', 'life', 'help', 'evil', 'friends', 'girl', 'stop', \n",
    "           'family', 'adventure', 'mysterious', 'takes', 'Christmas', 'against', 'This', 'home', 'comes', 'away', 'city',\n",
    "           'tale', 'human', 'love', 'called', 'journey', 'him.', 'down']\n",
    "\n",
    "\n",
    "Thriller=['young', 'life', 'woman', 'police', 'wife', 'group', 'takes', 'help', 'story', 'begins', 'goes', 'murder', \n",
    "          'down', 'family', 'time', 'people', 'lives', 'mysterious', 'love', 'then', 'death', 'home', \"he's\", \n",
    "          'killer', 'small', 'town', 'against', 'former', 'discovers', 'kill']\n",
    "\n",
    "\n",
    "History=['story', 'during', 'life', 'young', 'documentary', 'This', 'American', 'true', 'were', 'World', 'against',\n",
    "         'political', 'British', 'history', 'lives', 'love', 'Nazi', 'tells', 'group', 'events', 'German', 'team',\n",
    "         'drama', 'movie', 'family', 'time', 'people', 'footage', 'military', 'would']\n",
    "\n",
    "\n",
    "Adventure=['young', 'evil', 'life', 'help', 'against', 'story', 'save', 'family', 'named', 'time', 'mysterious', 'friends',\n",
    "           'adventure', 'group', 'stop', 'journey', 'father', 'discovers', 'discover', 'takes', 'three', 'battle', 'This',\n",
    "           'home', 'girl', 'secret', 'love', 'mission', 'friend', 'team']\n",
    "\n",
    "\n",
    "Sci_Fi=['human', 'life', 'alien', 'time', 'group', 'stop', 'mysterious', 'young', 'help', 'people', 'scientist', 'Earth', \n",
    "        'team', 'year', 'deadly', 'planet', 'story', 'against', 'save', 'This', 'space', 'government', 'future', \"he's\",\n",
    "        'former', 'small', 'evil', 'military', 'three', 'virus']\n",
    "\n",
    "\n",
    "Documentary=['documentary', 'life', 'This', 'story', 'look', 'American', 'interviews', 'people', 'were', 'footage', \n",
    "             'music', 'many', 'Documentary', 'such', 'live', 'movie', 'made', 'follows', 'during', 'history', 'like', \n",
    "             'director', 'including', 'films', 'takes', 'three', 'time', 'York', 'filmmaker', 'work']\n",
    "\n",
    "\n",
    "Short=['short', 'young', 'story', 'life', 'This', 'then', 'time', 'made', 'love', 'comes', 'people', 'girl', 'woman', \n",
    "       'many', 'tells', 'animated', 'there', 'film,', 'movie', 'images', 'small', 'music', 'around', 'down', 'camera', \n",
    "       'documentary', \"it's\", 'home', 'very', 'wants']\n",
    "\n",
    "\n",
    "Western=['town', 'young', 'family', 'story', 'group', 'gold', 'former', 'outlaw', 'American', 'daughter', 'Call', 'gang',\n",
    "         'ranch', 'woman', 'brothers', 'Missie', 'Belinda', 'Wild', 'west', 'decide', 'save', 'Mexican', 'bounty', \n",
    "         'beautiful', 'comes', 'legendary', 'head', 'life', 'until', 'returns']\n",
    "\n",
    "\n",
    "War=['during', 'story', 'World', 'young', 'soldiers', 'American', 'group', 'British', 'Nazi', 'life', 'This', 'family', \n",
    "     'Jewish', 'German', 'were', 'war.', 'against', 'army', 'both', 'lives', 'U.S.', 'comes', 'Vietnam', 'tells', 'military',\n",
    "     'movie', 'soldier', 'fight', 'escape', 'takes']\n",
    "\n",
    "\n",
    "Mystery=['young', 'woman', 'murder', 'life', 'mysterious', 'story', 'police', 'discovers', 'people', 'girl', 'death', 'lives',\n",
    "         'begins', 'killer', 'detective', 'wife', 'series', 'family', 'work', \"he's\", 'help', 'former', 'strange', 'goes',\n",
    "         'serial', 'takes', 'town', 'friend', 'husband', 'time']\n",
    "\n",
    "\n",
    "Comedy=['life', 'young', 'love', 'family', 'story', 'help', 'woman', 'friends', 'time', 'comedy', 'lives', 'girl', 'meets',\n",
    "        'school', 'wants', 'best', 'each', 'takes', 'decides', 'friend', \"he's\", 'father', 'home', 'three', 'local', 'town',\n",
    "        'tries', 'falls', 'goes', 'This']\n",
    "\n",
    "\n",
    "Fantasy=['young', 'life', 'love', 'evil', 'mysterious', 'story', 'time', 'help', 'girl', 'woman', 'family', 'meets', 'named',\n",
    "         'save', 'against', 'comes', 'takes', 'This', 'discovers', 'begins', 'lives', 'home', 'town', 'beautiful', 'ancient',\n",
    "         'stop', 'Christmas', 'each', 'father', 'people']\n",
    "\n",
    "\n",
    "Sport=['team', 'story', 'football', 'life', 'school', 'coach', 'young', 'basketball', 'team.', 'player', 'against', 'soccer',\n",
    "       'high', 'star', 'former', 'game', 'players', 'baseball', 'American', 'hockey', 'play', 'follows', 'World',\n",
    "       'college', 'returns', 'true', 'This', 'were', 'team,', 'lives']\n",
    "\n",
    "\n",
    "Family=['young', 'family', 'help', 'life', 'father', 'named', 'story', 'girl', 'parents', 'Christmas', 'save', \n",
    "        'home', 'school', 'friends', 'evil', 'time', 'love', 'discovers', 'little', 'mother', 'friend', 'wants',\n",
    "        'town', 'comes', 'very', \"he's\", 'year', 'takes', 'This', 'away']\n",
    "\n",
    "\n",
    "Music=['music', 'love', 'young', 'life', 'story', 'rock', 'band', 'musical', 'documentary', 'singer', 'This', 'family', \n",
    "       'time', 'lives', 'meets', 'woman', 'falls', 'group', 'live', 'girl', 'dance', 'together', 'takes', 'death', 'both',\n",
    "       'three', 'concert', 'school', 'many', 'movie']\n",
    "\n",
    "\n",
    "Adult=['porn', 'Italian', 'theaters', 'hard', 'Holmes', 'thousands', 'sexual', 'several', 'island', 'Gothic', 'horror',\n",
    "       'tells', 'tale', 'stops', 'remote', 'castle', 'hoping', 'medical', 'help', 'injured', 'woman,', 'inhabitants', \n",
    "       'mirror', 'darker', 'sides', 'woman', 'himself.', \"It's\", 'hard,', 'year']\n",
    "\n",
    "\n",
    "Horror=['young', 'group', 'woman', 'mysterious', 'begins', 'family', 'friends', 'town', 'life', 'killer', 'evil', \n",
    "        'people', 'story', 'takes', 'girl', 'human', 'home', 'night', 'death', 'horror', 'time', 'school', 'then',\n",
    "        'turns', 'strange', 'dead', 'begin', 'discover', 'killing', 'discovers']\n",
    "\n",
    "\n",
    "Crime=['young', 'life', 'police', 'murder', 'story', 'crime', 'help', 'gang', 'takes', 'down', 'woman', 'money', \n",
    "       'family', 'time', 'lives', 'drug', 'death', 'criminal', 'against', \"he's\", 'killer', 'love', 'detective', 'goes',\n",
    "       'local', 'him.', 'three', 'father', 'wants', 'wife']\n",
    "\n",
    "\n",
    "Drama=['young', 'life', 'story', 'love', 'family', 'woman', 'lives', 'father', 'takes', 'girl', 'mother', 'wife', 'time', \n",
    "       'meets', 'friends', 'help', 'during', 'each', 'small', 'falls', 'This', 'school', 'begins', 'life.', 'home', 'people',\n",
    "       'three', 'town', 'decides', 'living']"
   ]
  },
  {
   "cell_type": "markdown",
   "metadata": {},
   "source": [
    "# cos_similarity function "
   ]
  },
  {
   "cell_type": "code",
   "execution_count": 27,
   "metadata": {},
   "outputs": [],
   "source": [
    "from collections import Counter\n",
    "\n",
    "def cos_similarity(a, b):\n",
    "\n",
    "    # word-lists to compare\n",
    "    #a = [u'home (private)', u'bank', u'bank', u'building(condo/apartment)','factory']\n",
    "    #b = [u'home (private)', u'school', u'bank', u'shopping mall']\n",
    "\n",
    "    # count word occurrences\n",
    "    a_vals = Counter(a)\n",
    "    b_vals = Counter(b)\n",
    "\n",
    "    # convert to word-vectors\n",
    "    words  = list(a_vals.keys() | b_vals.keys())\n",
    "    a_vect = [a_vals.get(word, 0) for word in words]        # [0, 0, 1, 1, 2, 1]\n",
    "    b_vect = [b_vals.get(word, 0) for word in words]        # [1, 1, 1, 0, 1, 0]\n",
    "\n",
    "    # find cosine\n",
    "    len_a  = sum(av*av for av in a_vect) ** 0.5             # sqrt(7)\n",
    "    len_b  = sum(bv*bv for bv in b_vect) ** 0.5             # sqrt(4)\n",
    "    dot    = sum(av*bv for av,bv in zip(a_vect, b_vect))    # 3\n",
    "    cosine = dot / (len_a * len_b)                          # 0.5669467\n",
    "    return cosine"
   ]
  },
  {
   "cell_type": "code",
   "execution_count": 28,
   "metadata": {},
   "outputs": [],
   "source": [
    "usersKeys=['life', 'young', 'story', 'family', 'help', 'love', 'against', 'named', 'mysterious', 'father', 'time', 'takes', \n",
    " 'friends', 'lives', 'evil', 'best', 'during', 'true', \"he's\", 'down', 'three', 'home', 'living', 'stop', 'small',\n",
    " 'human', 'life.', 'comes', 'save', 'girl']"
   ]
  },
  {
   "cell_type": "code",
   "execution_count": 29,
   "metadata": {},
   "outputs": [
    {
     "name": "stdout",
     "output_type": "stream",
     "text": [
      "Action:\n",
      "0.5666666666666667\n",
      "Adult:\n",
      "0.03333333333333333\n",
      "Adventure:\n",
      "0.6333333333333333\n",
      "Animation:\n",
      "0.6666666666666666\n",
      "Biography:\n",
      "0.36666666666666664\n",
      "Comedy:\n",
      "0.5333333333333333\n",
      "Crime:\n",
      "0.4666666666666667\n",
      "Documentary:\n",
      "0.2\n",
      "Drama:\n",
      "0.6\n",
      "Family:\n",
      "0.5666666666666667\n",
      "Fantasy:\n",
      "0.6333333333333333\n",
      "History:\n",
      "0.3333333333333333\n",
      "Horror:\n",
      "0.4\n",
      "Music:\n",
      "0.3333333333333333\n",
      "Musical:\n",
      "0.43333333333333335\n",
      "Mystery:\n",
      "0.36666666666666664\n",
      "Romance:\n",
      "0.5666666666666667\n",
      "Sci_Fi:\n",
      "0.4666666666666667\n",
      "Short:\n",
      "0.3333333333333333\n",
      "Sport:\n",
      "0.2\n",
      "Thriller:\n",
      "0.5\n",
      "War:\n",
      "0.3\n",
      "Western:\n",
      "0.2\n"
     ]
    }
   ],
   "source": [
    "movieGenres = [Action,Adult,Adventure,Animation,Biography,Comedy,Crime,Documentary,Drama,Family,Fantasy,\n",
    " History,Horror,Music,Musical,Mystery,Romance,Sci_Fi,Short,Sport,Thriller,War,Western]\n",
    "movieGenresList = ['Action','Adult','Adventure','Animation','Biography','Comedy','Crime','Documentary','Drama','Family','Fantasy',\n",
    " 'History','Horror','Music','Musical','Mystery','Romance','Sci_Fi','Short','Sport','Thriller','War','Western']\n",
    "index = 0\n",
    "for item in movieGenres :\n",
    "    print(movieGenresList[index] + \":\")\n",
    "    index = index + 1\n",
    "    print(cos_similarity(usersKeys, item))"
   ]
  },
  {
   "cell_type": "code",
   "execution_count": 30,
   "metadata": {},
   "outputs": [],
   "source": [
    "movieGenresDict = {'Action':{'data':Action,'name':'Action'},'Adult':{'data':Adult,'name':'Adult'},\n",
    "                   'Adventure':{'data':Adventure,'name':'Adventure'},'Animation':{'data':Animation,'name':'Animation'},\n",
    "                   'Biography':{'data':Biography,'name':'Biography'},'Comedy':{'data':Comedy,'name':'Comedy'},\n",
    "                   'Crime':{'data':Crime,'name':'Crime'},'Documentary':{'data':Documentary,'name':'Documentary'},\n",
    "                   'Drama':{'data':Drama,'name':'Drama'},'Family':{'data':Family,'name':'Family'},\n",
    "                   'Fantasy':{'data':Fantasy,'name':'Fantasy'},'History':{'data':History,'name':'History'},\n",
    "                   'Horror':{'data':Horror,'name':'Horror'},'Music':{'data':Music,'name':'Music'},\n",
    "                   'Musical':{'data':Musical,'name':'Musical'},'Mystery':{'data':Mystery,'name':'Mystery'},\n",
    "                   'Romance':{'data':Romance,'name':'Romance'},'Sci_Fi':{'data':Sci_Fi,'name':'Sci_Fi'},\n",
    "                   'Short':{'data':Short,'name':'Short'},'Sport':{'data':Sport,'name':'Sport'},\n",
    "                   'Thriller':{'data':Thriller,'name':'Thriller'}\n",
    "                   ,'War':{'data':War,'name':'War'},'Western':{'data':Western,'name':'Western'}}"
   ]
  },
  {
   "cell_type": "code",
   "execution_count": 31,
   "metadata": {},
   "outputs": [
    {
     "name": "stdout",
     "output_type": "stream",
     "text": [
      "Action\n",
      "0.5666666666666667\n",
      "Adult\n",
      "0.03333333333333333\n",
      "Adventure\n",
      "0.6333333333333333\n",
      "Animation\n",
      "0.6666666666666666\n",
      "Biography\n",
      "0.36666666666666664\n",
      "Comedy\n",
      "0.5333333333333333\n",
      "Crime\n",
      "0.4666666666666667\n",
      "Documentary\n",
      "0.2\n",
      "Drama\n",
      "0.6\n",
      "Family\n",
      "0.5666666666666667\n",
      "Fantasy\n",
      "0.6333333333333333\n",
      "History\n",
      "0.3333333333333333\n",
      "Horror\n",
      "0.4\n",
      "Music\n",
      "0.3333333333333333\n",
      "Musical\n",
      "0.43333333333333335\n",
      "Mystery\n",
      "0.36666666666666664\n",
      "Romance\n",
      "0.5666666666666667\n",
      "Sci_Fi\n",
      "0.4666666666666667\n",
      "Short\n",
      "0.3333333333333333\n",
      "Sport\n",
      "0.2\n",
      "Thriller\n",
      "0.5\n",
      "War\n",
      "0.3\n",
      "Western\n",
      "0.2\n"
     ]
    }
   ],
   "source": [
    "for item in movieGenresDict:\n",
    "    print(movieGenresDict[item]['name'])\n",
    "    print(cos_similarity(usersKeys, movieGenresDict[item]['data']))\n",
    "    movieGenresDict[item]['benzerlik']=cos_similarity(usersKeys, movieGenresDict[item]['data'])"
   ]
  },
  {
   "cell_type": "code",
   "execution_count": 32,
   "metadata": {
    "scrolled": true
   },
   "outputs": [
    {
     "name": "stdout",
     "output_type": "stream",
     "text": [
      "{'Action': {'data': ['young', 'against', 'life', 'help', 'police', 'time', 'group', 'stop', 'story', 'love', 'save', 'evil', 'team', 'former', 'gang', 'takes', 'battle', 'down', 'fight', 'agent', 'named', 'death', 'mysterious', 'kill', 'discovers', 'goes', 'mission', 'comes', 'during', 'family'], 'name': 'Action', 'benzerlik': 0.5666666666666667}, 'Adult': {'data': ['porn', 'Italian', 'theaters', 'hard', 'Holmes', 'thousands', 'sexual', 'several', 'island', 'Gothic', 'horror', 'tells', 'tale', 'stops', 'remote', 'castle', 'hoping', 'medical', 'help', 'injured', 'woman,', 'inhabitants', 'mirror', 'darker', 'sides', 'woman', 'himself.', \"It's\", 'hard,', 'year'], 'name': 'Adult', 'benzerlik': 0.03333333333333333}, 'Adventure': {'data': ['young', 'evil', 'life', 'help', 'against', 'story', 'save', 'family', 'named', 'time', 'mysterious', 'friends', 'adventure', 'group', 'stop', 'journey', 'father', 'discovers', 'discover', 'takes', 'three', 'battle', 'This', 'home', 'girl', 'secret', 'love', 'mission', 'friend', 'team'], 'name': 'Adventure', 'benzerlik': 0.6333333333333333}, 'Animation': {'data': ['young', 'named', 'animated', 'save', 'time', 'story', 'life', 'help', 'evil', 'friends', 'girl', 'stop', 'family', 'adventure', 'mysterious', 'takes', 'Christmas', 'against', 'This', 'home', 'comes', 'away', 'city', 'tale', 'human', 'love', 'called', 'journey', 'him.', 'down'], 'name': 'Animation', 'benzerlik': 0.6666666666666666}, 'Biography': {'data': ['life', 'story', 'true', 'young', 'during', 'love', 'documentary', 'This', 'family', 'movie', 'Based', 'lives', 'early', 'career', 'time', 'famous', 'rise', 'John', 'father', 'tells', 'legendary', 'against', 'director', 'relationship', 'based', 'American', 'were', 'life,', 'made', 'music'], 'name': 'Biography', 'benzerlik': 0.36666666666666664}, 'Comedy': {'data': ['life', 'young', 'love', 'family', 'story', 'help', 'woman', 'friends', 'time', 'comedy', 'lives', 'girl', 'meets', 'school', 'wants', 'best', 'each', 'takes', 'decides', 'friend', \"he's\", 'father', 'home', 'three', 'local', 'town', 'tries', 'falls', 'goes', 'This'], 'name': 'Comedy', 'benzerlik': 0.5333333333333333}, 'Crime': {'data': ['young', 'life', 'police', 'murder', 'story', 'crime', 'help', 'gang', 'takes', 'down', 'woman', 'money', 'family', 'time', 'lives', 'drug', 'death', 'criminal', 'against', \"he's\", 'killer', 'love', 'detective', 'goes', 'local', 'him.', 'three', 'father', 'wants', 'wife'], 'name': 'Crime', 'benzerlik': 0.4666666666666667}, 'Documentary': {'data': ['documentary', 'life', 'This', 'story', 'look', 'American', 'interviews', 'people', 'were', 'footage', 'music', 'many', 'Documentary', 'such', 'live', 'movie', 'made', 'follows', 'during', 'history', 'like', 'director', 'including', 'films', 'takes', 'three', 'time', 'York', 'filmmaker', 'work'], 'name': 'Documentary', 'benzerlik': 0.2}, 'Drama': {'data': ['young', 'life', 'story', 'love', 'family', 'woman', 'lives', 'father', 'takes', 'girl', 'mother', 'wife', 'time', 'meets', 'friends', 'help', 'during', 'each', 'small', 'falls', 'This', 'school', 'begins', 'life.', 'home', 'people', 'three', 'town', 'decides', 'living'], 'name': 'Drama', 'benzerlik': 0.6}, 'Family': {'data': ['young', 'family', 'help', 'life', 'father', 'named', 'story', 'girl', 'parents', 'Christmas', 'save', 'home', 'school', 'friends', 'evil', 'time', 'love', 'discovers', 'little', 'mother', 'friend', 'wants', 'town', 'comes', 'very', \"he's\", 'year', 'takes', 'This', 'away'], 'name': 'Family', 'benzerlik': 0.5666666666666667}, 'Fantasy': {'data': ['young', 'life', 'love', 'evil', 'mysterious', 'story', 'time', 'help', 'girl', 'woman', 'family', 'meets', 'named', 'save', 'against', 'comes', 'takes', 'This', 'discovers', 'begins', 'lives', 'home', 'town', 'beautiful', 'ancient', 'stop', 'Christmas', 'each', 'father', 'people'], 'name': 'Fantasy', 'benzerlik': 0.6333333333333333}, 'History': {'data': ['story', 'during', 'life', 'young', 'documentary', 'This', 'American', 'true', 'were', 'World', 'against', 'political', 'British', 'history', 'lives', 'love', 'Nazi', 'tells', 'group', 'events', 'German', 'team', 'drama', 'movie', 'family', 'time', 'people', 'footage', 'military', 'would'], 'name': 'History', 'benzerlik': 0.3333333333333333}, 'Horror': {'data': ['young', 'group', 'woman', 'mysterious', 'begins', 'family', 'friends', 'town', 'life', 'killer', 'evil', 'people', 'story', 'takes', 'girl', 'human', 'home', 'night', 'death', 'horror', 'time', 'school', 'then', 'turns', 'strange', 'dead', 'begin', 'discover', 'killing', 'discovers'], 'name': 'Horror', 'benzerlik': 0.4}, 'Music': {'data': ['music', 'love', 'young', 'life', 'story', 'rock', 'band', 'musical', 'documentary', 'singer', 'This', 'family', 'time', 'lives', 'meets', 'woman', 'falls', 'group', 'live', 'girl', 'dance', 'together', 'takes', 'death', 'both', 'three', 'concert', 'school', 'many', 'movie'], 'name': 'Music', 'benzerlik': 0.3333333333333333}, 'Musical': {'data': ['love', 'young', 'story', 'musical', 'family', 'life', 'falls', 'meets', 'married', 'named', 'three', 'very', 'daughter', 'This', 'girl', 'lives', 'live', 'woman', 'death', 'both', 'wife', 'father', 'marriage', 'together', 'takes', 'love.', 'time', 'him.', 'wealthy', 'comes'], 'name': 'Musical', 'benzerlik': 0.43333333333333335}, 'Mystery': {'data': ['young', 'woman', 'murder', 'life', 'mysterious', 'story', 'police', 'discovers', 'people', 'girl', 'death', 'lives', 'begins', 'killer', 'detective', 'wife', 'series', 'family', 'work', \"he's\", 'help', 'former', 'strange', 'goes', 'serial', 'takes', 'town', 'friend', 'husband', 'time'], 'name': 'Mystery', 'benzerlik': 0.36666666666666664}, 'Romance': {'data': ['love', 'young', 'life', 'woman', 'story', 'falls', 'meets', 'family', 'each', 'lives', 'girl', 'friends', 'relationship', 'both', 'mother', 'best', 'time', 'him.', 'takes', 'father', 'decides', 'begins', 'wants', 'living', 'goes', 'comes', 'life.', 'three', 'home', 'school'], 'name': 'Romance', 'benzerlik': 0.5666666666666667}, 'Sci_Fi': {'data': ['human', 'life', 'alien', 'time', 'group', 'stop', 'mysterious', 'young', 'help', 'people', 'scientist', 'Earth', 'team', 'year', 'deadly', 'planet', 'story', 'against', 'save', 'This', 'space', 'government', 'future', \"he's\", 'former', 'small', 'evil', 'military', 'three', 'virus'], 'name': 'Sci_Fi', 'benzerlik': 0.4666666666666667}, 'Short': {'data': ['short', 'young', 'story', 'life', 'This', 'then', 'time', 'made', 'love', 'comes', 'people', 'girl', 'woman', 'many', 'tells', 'animated', 'there', 'film,', 'movie', 'images', 'small', 'music', 'around', 'down', 'camera', 'documentary', \"it's\", 'home', 'very', 'wants'], 'name': 'Short', 'benzerlik': 0.3333333333333333}, 'Sport': {'data': ['team', 'story', 'football', 'life', 'school', 'coach', 'young', 'basketball', 'team.', 'player', 'against', 'soccer', 'high', 'star', 'former', 'game', 'players', 'baseball', 'American', 'hockey', 'play', 'follows', 'World', 'college', 'returns', 'true', 'This', 'were', 'team,', 'lives'], 'name': 'Sport', 'benzerlik': 0.2}, 'Thriller': {'data': ['young', 'life', 'woman', 'police', 'wife', 'group', 'takes', 'help', 'story', 'begins', 'goes', 'murder', 'down', 'family', 'time', 'people', 'lives', 'mysterious', 'love', 'then', 'death', 'home', \"he's\", 'killer', 'small', 'town', 'against', 'former', 'discovers', 'kill'], 'name': 'Thriller', 'benzerlik': 0.5}, 'War': {'data': ['during', 'story', 'World', 'young', 'soldiers', 'American', 'group', 'British', 'Nazi', 'life', 'This', 'family', 'Jewish', 'German', 'were', 'war.', 'against', 'army', 'both', 'lives', 'U.S.', 'comes', 'Vietnam', 'tells', 'military', 'movie', 'soldier', 'fight', 'escape', 'takes'], 'name': 'War', 'benzerlik': 0.3}, 'Western': {'data': ['town', 'young', 'family', 'story', 'group', 'gold', 'former', 'outlaw', 'American', 'daughter', 'Call', 'gang', 'ranch', 'woman', 'brothers', 'Missie', 'Belinda', 'Wild', 'west', 'decide', 'save', 'Mexican', 'bounty', 'beautiful', 'comes', 'legendary', 'head', 'life', 'until', 'returns'], 'name': 'Western', 'benzerlik': 0.2}}\n"
     ]
    }
   ],
   "source": [
    "print(movieGenresDict)"
   ]
  },
  {
   "cell_type": "code",
   "execution_count": 42,
   "metadata": {},
   "outputs": [
    {
     "name": "stdout",
     "output_type": "stream",
     "text": [
      "Action\n",
      "0.5666666666666667\n",
      "Adult\n",
      "0.03333333333333333\n",
      "Adventure\n",
      "0.6333333333333333\n",
      "Animation\n",
      "0.6666666666666666\n",
      "Biography\n",
      "0.36666666666666664\n",
      "Comedy\n",
      "0.5333333333333333\n",
      "Crime\n",
      "0.4666666666666667\n",
      "Documentary\n",
      "0.2\n",
      "Drama\n",
      "0.6\n",
      "Family\n",
      "0.5666666666666667\n",
      "Fantasy\n",
      "0.6333333333333333\n",
      "History\n",
      "0.3333333333333333\n",
      "Horror\n",
      "0.4\n",
      "Music\n",
      "0.3333333333333333\n",
      "Musical\n",
      "0.43333333333333335\n",
      "Mystery\n",
      "0.36666666666666664\n",
      "Romance\n",
      "0.5666666666666667\n",
      "Sci_Fi\n",
      "0.4666666666666667\n",
      "Short\n",
      "0.3333333333333333\n",
      "Sport\n",
      "0.2\n",
      "Thriller\n",
      "0.5\n",
      "War\n",
      "0.3\n",
      "Western\n",
      "0.2\n"
     ]
    }
   ],
   "source": [
    "for key, value in movieGenresDict.items():\n",
    "    print(key)\n",
    "    print(value['benzerlik'])"
   ]
  },
  {
   "cell_type": "code",
   "execution_count": 43,
   "metadata": {},
   "outputs": [
    {
     "data": {
      "text/plain": [
       "[(0.5666666666666667, 'Action'),\n",
       " (0.03333333333333333, 'Adult'),\n",
       " (0.6333333333333333, 'Adventure'),\n",
       " (0.6666666666666666, 'Animation'),\n",
       " (0.36666666666666664, 'Biography'),\n",
       " (0.5333333333333333, 'Comedy'),\n",
       " (0.4666666666666667, 'Crime'),\n",
       " (0.2, 'Documentary'),\n",
       " (0.6, 'Drama'),\n",
       " (0.5666666666666667, 'Family'),\n",
       " (0.6333333333333333, 'Fantasy'),\n",
       " (0.3333333333333333, 'History'),\n",
       " (0.4, 'Horror'),\n",
       " (0.3333333333333333, 'Music'),\n",
       " (0.43333333333333335, 'Musical'),\n",
       " (0.36666666666666664, 'Mystery'),\n",
       " (0.5666666666666667, 'Romance'),\n",
       " (0.4666666666666667, 'Sci_Fi'),\n",
       " (0.3333333333333333, 'Short'),\n",
       " (0.2, 'Sport'),\n",
       " (0.5, 'Thriller'),\n",
       " (0.3, 'War'),\n",
       " (0.2, 'Western')]"
      ]
     },
     "execution_count": 43,
     "metadata": {},
     "output_type": "execute_result"
    }
   ],
   "source": [
    "inverse = [(value['benzerlik'], key) for key, value in movieGenresDict.items()]\n",
    "# inverse[len(inverse)-1]=(0.2, 'Western')\n",
    "inverse"
   ]
  },
  {
   "cell_type": "code",
   "execution_count": 44,
   "metadata": {},
   "outputs": [],
   "source": [
    "for i in range(len(inverse)): \n",
    "\n",
    "    min_idx = i \n",
    "    for j in range(i+1, len(inverse)): \n",
    "        if (inverse[min_idx][0] > inverse[j][0]): \n",
    "            min_idx = j \n",
    "         \n",
    "    inverse[i], inverse[min_idx] = inverse[min_idx], inverse[i]"
   ]
  },
  {
   "cell_type": "code",
   "execution_count": 45,
   "metadata": {},
   "outputs": [
    {
     "data": {
      "text/plain": [
       "[(0.6, 'Drama'),\n",
       " (0.6333333333333333, 'Adventure'),\n",
       " (0.6333333333333333, 'Fantasy'),\n",
       " (0.6666666666666666, 'Animation')]"
      ]
     },
     "execution_count": 45,
     "metadata": {},
     "output_type": "execute_result"
    }
   ],
   "source": [
    "inverse[-4:]"
   ]
  },
  {
   "cell_type": "code",
   "execution_count": 48,
   "metadata": {},
   "outputs": [
    {
     "data": {
      "text/plain": [
       "[(0.03333333333333333, 'Adult'),\n",
       " (0.2, 'Documentary'),\n",
       " (0.2, 'Sport'),\n",
       " (0.2, 'Western'),\n",
       " (0.3, 'War'),\n",
       " (0.3333333333333333, 'History'),\n",
       " (0.3333333333333333, 'Music'),\n",
       " (0.3333333333333333, 'Short'),\n",
       " (0.36666666666666664, 'Mystery'),\n",
       " (0.36666666666666664, 'Biography'),\n",
       " (0.4, 'Horror'),\n",
       " (0.43333333333333335, 'Musical'),\n",
       " (0.4666666666666667, 'Crime'),\n",
       " (0.4666666666666667, 'Sci_Fi'),\n",
       " (0.5, 'Thriller'),\n",
       " (0.5333333333333333, 'Comedy'),\n",
       " (0.5666666666666667, 'Romance'),\n",
       " (0.5666666666666667, 'Action'),\n",
       " (0.5666666666666667, 'Family'),\n",
       " (0.6, 'Drama'),\n",
       " (0.6333333333333333, 'Adventure'),\n",
       " (0.6333333333333333, 'Fantasy'),\n",
       " (0.6666666666666666, 'Animation')]"
      ]
     },
     "execution_count": 48,
     "metadata": {},
     "output_type": "execute_result"
    }
   ],
   "source": [
    "inverse"
   ]
  },
  {
   "cell_type": "code",
   "execution_count": 46,
   "metadata": {},
   "outputs": [],
   "source": [
    "# genres=inverse[-4:]\n",
    "# listem = []\n",
    "# for i in genres:\n",
    "#     listem.append(i[1])\n",
    "# listem"
   ]
  },
  {
   "cell_type": "code",
   "execution_count": 47,
   "metadata": {},
   "outputs": [
    {
     "data": {
      "text/plain": [
       "['Drama', 'Adventure', 'Fantasy', 'Animation']"
      ]
     },
     "execution_count": 47,
     "metadata": {},
     "output_type": "execute_result"
    }
   ],
   "source": [
    "listem=[i[1] for i in inverse[-4:]]\n",
    "listem"
   ]
  },
  {
   "cell_type": "markdown",
   "metadata": {},
   "source": [
    "\n",
    "def recommenderList(watchlist, getAnalysis):\n",
    "    \n",
    "    cond = getAnalysis['imdb_id'].isin(watchlist['Const'])\n",
    "    recommendList = getAnalysis.drop(getAnalysis[cond].index, inplace = True)\n",
    "    \n",
    "    for title,genres in zip(recommendList[\"title\"], recommendList[\"Genres\"]):\n",
    "        for genre in genres:\n",
    "            if genre == 'Drama' or 'Adventure' or 'Fantasy' or 'Animation:\n",
    "                print(title)\n",
    "## cosSim dosyasında yapıldı"
   ]
  },
  {
   "cell_type": "code",
   "execution_count": null,
   "metadata": {},
   "outputs": [],
   "source": []
  },
  {
   "cell_type": "code",
   "execution_count": null,
   "metadata": {},
   "outputs": [],
   "source": []
  }
 ],
 "metadata": {
  "kernelspec": {
   "display_name": "Python 3",
   "language": "python",
   "name": "python3"
  },
  "language_info": {
   "codemirror_mode": {
    "name": "ipython",
    "version": 3
   },
   "file_extension": ".py",
   "mimetype": "text/x-python",
   "name": "python",
   "nbconvert_exporter": "python",
   "pygments_lexer": "ipython3",
   "version": "3.8.3"
  }
 },
 "nbformat": 4,
 "nbformat_minor": 4
}
