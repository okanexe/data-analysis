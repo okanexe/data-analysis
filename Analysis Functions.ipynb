{
 "cells": [
  {
   "cell_type": "code",
   "execution_count": 2,
   "metadata": {},
   "outputs": [
    {
     "name": "stderr",
     "output_type": "stream",
     "text": [
      "c:\\python38\\lib\\site-packages\\IPython\\core\\interactiveshell.py:3062: DtypeWarning: Columns (10) have mixed types.Specify dtype option on import or set low_memory=False.\n",
      "  has_raised = await self.run_ast_nodes(code_ast.body, cell_name,\n",
      "<ipython-input-2-a2fc6d39a358>:22: SettingWithCopyWarning: \n",
      "A value is trying to be set on a copy of a slice from a DataFrame.\n",
      "Try using .loc[row_indexer,col_indexer] = value instead\n",
      "\n",
      "See the caveats in the documentation: https://pandas.pydata.org/pandas-docs/stable/user_guide/indexing.html#returning-a-view-versus-a-copy\n",
      "  ids_list[\"Imdb Link\"]=ids\n"
     ]
    },
    {
     "data": {
      "text/html": [
       "<div>\n",
       "<style scoped>\n",
       "    .dataframe tbody tr th:only-of-type {\n",
       "        vertical-align: middle;\n",
       "    }\n",
       "\n",
       "    .dataframe tbody tr th {\n",
       "        vertical-align: top;\n",
       "    }\n",
       "\n",
       "    .dataframe thead th {\n",
       "        text-align: right;\n",
       "    }\n",
       "</style>\n",
       "<table border=\"1\" class=\"dataframe\">\n",
       "  <thead>\n",
       "    <tr style=\"text-align: right;\">\n",
       "      <th></th>\n",
       "      <th>imdb_id</th>\n",
       "      <th>overview</th>\n",
       "      <th>title</th>\n",
       "      <th>Genre</th>\n",
       "      <th>Genres</th>\n",
       "    </tr>\n",
       "  </thead>\n",
       "  <tbody>\n",
       "    <tr>\n",
       "      <th>0</th>\n",
       "      <td>tt0114709</td>\n",
       "      <td>Led by Woody, Andy's toys live happily in his ...</td>\n",
       "      <td>Toy Story</td>\n",
       "      <td>Animation|Adventure|Comedy</td>\n",
       "      <td>[Animation, Adventure, Comedy]</td>\n",
       "    </tr>\n",
       "    <tr>\n",
       "      <th>1</th>\n",
       "      <td>tt0113497</td>\n",
       "      <td>When siblings Judy and Peter discover an encha...</td>\n",
       "      <td>Jumanji</td>\n",
       "      <td>Action|Adventure|Family</td>\n",
       "      <td>[Action, Adventure, Family]</td>\n",
       "    </tr>\n",
       "    <tr>\n",
       "      <th>2</th>\n",
       "      <td>tt0113228</td>\n",
       "      <td>A family wedding reignites the ancient feud be...</td>\n",
       "      <td>Grumpier Old Men</td>\n",
       "      <td>Comedy|Romance</td>\n",
       "      <td>[Comedy, Romance]</td>\n",
       "    </tr>\n",
       "    <tr>\n",
       "      <th>3</th>\n",
       "      <td>tt0114885</td>\n",
       "      <td>Cheated on, mistreated and stepped on, the wom...</td>\n",
       "      <td>Waiting to Exhale</td>\n",
       "      <td>Comedy|Drama|Romance</td>\n",
       "      <td>[Comedy, Drama, Romance]</td>\n",
       "    </tr>\n",
       "    <tr>\n",
       "      <th>4</th>\n",
       "      <td>tt0113041</td>\n",
       "      <td>Just when George Banks has recovered from his ...</td>\n",
       "      <td>Father of the Bride Part II</td>\n",
       "      <td>Comedy|Family|Romance</td>\n",
       "      <td>[Comedy, Family, Romance]</td>\n",
       "    </tr>\n",
       "    <tr>\n",
       "      <th>...</th>\n",
       "      <td>...</td>\n",
       "      <td>...</td>\n",
       "      <td>...</td>\n",
       "      <td>...</td>\n",
       "      <td>...</td>\n",
       "    </tr>\n",
       "    <tr>\n",
       "      <th>14342</th>\n",
       "      <td>tt0105041</td>\n",
       "      <td>Lorie Brindel works at an insurance company an...</td>\n",
       "      <td>Obsessed</td>\n",
       "      <td>Drama|Thriller</td>\n",
       "      <td>[Drama, Thriller]</td>\n",
       "    </tr>\n",
       "    <tr>\n",
       "      <th>14343</th>\n",
       "      <td>tt0229480</td>\n",
       "      <td>A movie company is filming a murder mystery on...</td>\n",
       "      <td>Island of Blood</td>\n",
       "      <td>Horror|Mystery|Thriller</td>\n",
       "      <td>[Horror, Mystery, Thriller]</td>\n",
       "    </tr>\n",
       "    <tr>\n",
       "      <th>14344</th>\n",
       "      <td>tt0815258</td>\n",
       "      <td>No overview found.</td>\n",
       "      <td>Werewolf in a Women's Prison</td>\n",
       "      <td>Horror</td>\n",
       "      <td>[Horror]</td>\n",
       "    </tr>\n",
       "    <tr>\n",
       "      <th>14345</th>\n",
       "      <td>tt0185906</td>\n",
       "      <td>Drawn from interviews with survivors of Easy C...</td>\n",
       "      <td>Band of Brothers</td>\n",
       "      <td>Action|Drama|History</td>\n",
       "      <td>[Action, Drama, History]</td>\n",
       "    </tr>\n",
       "    <tr>\n",
       "      <th>14346</th>\n",
       "      <td>tt0238304</td>\n",
       "      <td>Playboy does to softcore sex films what HBO's ...</td>\n",
       "      <td>Inside Out 3</td>\n",
       "      <td>Comedy|Drama|Romance</td>\n",
       "      <td>[Comedy, Drama, Romance]</td>\n",
       "    </tr>\n",
       "  </tbody>\n",
       "</table>\n",
       "<p>14005 rows × 5 columns</p>\n",
       "</div>"
      ],
      "text/plain": [
       "         imdb_id                                           overview  \\\n",
       "0      tt0114709  Led by Woody, Andy's toys live happily in his ...   \n",
       "1      tt0113497  When siblings Judy and Peter discover an encha...   \n",
       "2      tt0113228  A family wedding reignites the ancient feud be...   \n",
       "3      tt0114885  Cheated on, mistreated and stepped on, the wom...   \n",
       "4      tt0113041  Just when George Banks has recovered from his ...   \n",
       "...          ...                                                ...   \n",
       "14342  tt0105041  Lorie Brindel works at an insurance company an...   \n",
       "14343  tt0229480  A movie company is filming a murder mystery on...   \n",
       "14344  tt0815258                                 No overview found.   \n",
       "14345  tt0185906  Drawn from interviews with survivors of Easy C...   \n",
       "14346  tt0238304  Playboy does to softcore sex films what HBO's ...   \n",
       "\n",
       "                              title                       Genre  \\\n",
       "0                         Toy Story  Animation|Adventure|Comedy   \n",
       "1                           Jumanji     Action|Adventure|Family   \n",
       "2                  Grumpier Old Men              Comedy|Romance   \n",
       "3                 Waiting to Exhale        Comedy|Drama|Romance   \n",
       "4       Father of the Bride Part II       Comedy|Family|Romance   \n",
       "...                             ...                         ...   \n",
       "14342                      Obsessed              Drama|Thriller   \n",
       "14343               Island of Blood     Horror|Mystery|Thriller   \n",
       "14344  Werewolf in a Women's Prison                      Horror   \n",
       "14345              Band of Brothers        Action|Drama|History   \n",
       "14346                  Inside Out 3        Comedy|Drama|Romance   \n",
       "\n",
       "                               Genres  \n",
       "0      [Animation, Adventure, Comedy]  \n",
       "1         [Action, Adventure, Family]  \n",
       "2                   [Comedy, Romance]  \n",
       "3            [Comedy, Drama, Romance]  \n",
       "4           [Comedy, Family, Romance]  \n",
       "...                               ...  \n",
       "14342               [Drama, Thriller]  \n",
       "14343     [Horror, Mystery, Thriller]  \n",
       "14344                        [Horror]  \n",
       "14345        [Action, Drama, History]  \n",
       "14346        [Comedy, Drama, Romance]  \n",
       "\n",
       "[14005 rows x 5 columns]"
      ]
     },
     "execution_count": 2,
     "metadata": {},
     "output_type": "execute_result"
    }
   ],
   "source": [
    "import pandas as pd \n",
    "import numpy as np\n",
    "from itertools import combinations\n",
    "from collections import Counter\n",
    "\n",
    "movies=pd.read_csv(\"movies_metadata.csv\")\n",
    "analysis = movies[[\"genres\",\"imdb_id\",\"overview\",\"title\"]]\n",
    "\n",
    "imdb_ids = pd.read_csv(\"MovieGenre.csv\",encoding='latin-1')\n",
    "ids_list=imdb_ids[[\"Imdb Link\",\"Genre\",\"Title\"]]\n",
    "ids=[]\n",
    "def listToString(s):  \n",
    "    str1 = \"\" \n",
    "    return (str1.join(s))\n",
    "\n",
    "for row in ids_list[\"Imdb Link\"]:\n",
    "    liste=row.split(\"/\")\n",
    "    l=list(liste[4])\n",
    "    l.insert(2,\"0\")\n",
    "    ids.append(listToString(l))\n",
    "    \n",
    "ids_list[\"Imdb Link\"]=ids\n",
    "\n",
    "getAnalysis=analysis.merge(ids_list,how='inner',left_on='imdb_id',right_on='Imdb Link')\n",
    "getAnalysis=getAnalysis[[\"imdb_id\",\"overview\",\"title\",\"Genre\"]]\n",
    "\n",
    "getAnalysis=getAnalysis.dropna(how='any')\n",
    "\n",
    "getAnalysis['Genres'] = getAnalysis['Genre'].apply(lambda x: listToString(x).split(\"|\"))\n",
    "getAnalysis"
   ]
  },
  {
   "cell_type": "code",
   "execution_count": 20,
   "metadata": {},
   "outputs": [],
   "source": [
    "def paragraf(p, liste):\n",
    "    words = p.split(\" \")\n",
    "    for wrd in words:\n",
    "            if(len(wrd)>3):\n",
    "                liste.append(wrd)\n",
    "\n",
    "def wordAnalysis(genre, getAnalysis):  ## genre string film türü, getAnalysis  film dataseti\n",
    "    List=[]\n",
    "    for a,b in zip(getAnalysis[\"Genre\"],getAnalysis[\"overview\"]):\n",
    "        try:\n",
    "            if(a.index(genre)>=0):\n",
    "                paragraf(b, List)\n",
    "        except:\n",
    "            pass\n",
    "                       \n",
    "    englishGrammar=[\"with\",\"that\",\"from\",\"their\",\"they\",\"into\",\"when\",\"When\",\"must\",\"this\",\"have\",\"after\",\"only\",\"find\",\"will\",\n",
    "                \"which\",\"them\",\"back\",\"been\",\"about\",\"After\",\"where\",\"world\",\"gets\",\"film\",\"while\",\"himself\",\"also\",\n",
    "                \"over\",\"being\",\"become\",\"becomes\",\"through\",\"other\",\"between\",\"most\",\"whose\",\"more\",\"what\",\"With\",\"than\",\n",
    "                    \"before\",\"They\",\"soon\",\"house\",\"just\",\"some\",\"finds\",\"first\",\"take\",\"make\",\"years\"]\n",
    "      \n",
    "    for i in englishGrammar:\n",
    "        for j in List:\n",
    "            if(i==j):\n",
    "                List.remove(j)\n",
    "\n",
    "    count = Counter()\n",
    "    count.update(Counter(combinations(List, 1)))\n",
    "    \n",
    "    keys=[]\n",
    "    for key,value in count.most_common(30):\n",
    "            keys.append(key)\n",
    "    \n",
    "    keys = [string_key for key in keys for string_key in key]\n",
    "    \n",
    "    return keys\n",
    "\n",
    "    \n"
   ]
  },
  {
   "cell_type": "code",
   "execution_count": 6,
   "metadata": {},
   "outputs": [
    {
     "name": "stdout",
     "output_type": "stream",
     "text": [
      "['life', 'young', 'love', 'family', 'story', 'help', 'woman', 'friends', 'time', 'comedy', 'lives', 'girl', 'meets', 'school', 'wants', 'best', 'each', 'takes', 'decides', 'friend', \"he's\", 'father', 'home', 'three', 'local', 'town', 'tries', 'falls', 'goes', 'This']\n"
     ]
    }
   ],
   "source": [
    "wordAnalysis('Comedy', getAnalysis)"
   ]
  },
  {
   "cell_type": "code",
   "execution_count": 7,
   "metadata": {},
   "outputs": [
    {
     "name": "stdout",
     "output_type": "stream",
     "text": [
      "['young', 'group', 'woman', 'mysterious', 'begins', 'family', 'friends', 'town', 'life', 'killer', 'evil', 'people', 'story', 'takes', 'girl', 'human', 'home', 'night', 'death', 'horror', 'time', 'school', 'then', 'turns', 'strange', 'dead', 'begin', 'discover', 'killing', 'discovers']\n"
     ]
    }
   ],
   "source": [
    "wordAnalysis('Horror', getAnalysis)"
   ]
  },
  {
   "cell_type": "code",
   "execution_count": 8,
   "metadata": {},
   "outputs": [
    {
     "name": "stdout",
     "output_type": "stream",
     "text": [
      "['during', 'story', 'World', 'young', 'soldiers', 'American', 'group', 'British', 'Nazi', 'life', 'This', 'family', 'Jewish', 'German', 'were', 'war.', 'against', 'army', 'both', 'lives', 'U.S.', 'comes', 'Vietnam', 'tells', 'military', 'movie', 'soldier', 'fight', 'escape', 'takes']\n"
     ]
    }
   ],
   "source": [
    "wordAnalysis('War', getAnalysis)"
   ]
  },
  {
   "cell_type": "code",
   "execution_count": 24,
   "metadata": {},
   "outputs": [
    {
     "name": "stdout",
     "output_type": "stream",
     "text": [
      "['love', 'young', 'life', 'woman', 'story', 'falls', 'meets', 'family', 'each', 'lives', 'girl', 'friends', 'relationship', 'both', 'mother', 'best', 'time', 'him.', 'takes', 'father', 'decides', 'begins', 'wants', 'living', 'goes', 'comes', 'life.', 'three', 'home', 'school']\n"
     ]
    }
   ],
   "source": [
    "print(wordAnalysis('Romance', getAnalysis))"
   ]
  },
  {
   "cell_type": "markdown",
   "metadata": {},
   "source": [
    "# Talk-show genresi kaldır !  Film-noir sıfır olduğu için çıkarıldı"
   ]
  },
  {
   "cell_type": "code",
   "execution_count": 26,
   "metadata": {},
   "outputs": [
    {
     "name": "stdout",
     "output_type": "stream",
     "text": [
      "Biography\n",
      "['life', 'story', 'true', 'young', 'during', 'love', 'documentary', 'This', 'family', 'movie', 'Based', 'lives', 'early', 'career', 'time', 'famous', 'rise', 'John', 'father', 'tells', 'legendary', 'against', 'director', 'relationship', 'based', 'American', 'were', 'life,', 'made', 'music']\n",
      "\n",
      "\n",
      "Action\n",
      "['young', 'against', 'life', 'help', 'police', 'time', 'group', 'stop', 'story', 'love', 'save', 'evil', 'team', 'former', 'gang', 'takes', 'battle', 'down', 'fight', 'agent', 'named', 'death', 'mysterious', 'kill', 'discovers', 'goes', 'mission', 'comes', 'during', 'family']\n",
      "\n",
      "\n",
      "Romance\n",
      "['love', 'young', 'life', 'woman', 'story', 'falls', 'meets', 'family', 'each', 'lives', 'girl', 'friends', 'relationship', 'both', 'mother', 'best', 'time', 'him.', 'takes', 'father', 'decides', 'begins', 'wants', 'living', 'goes', 'comes', 'life.', 'three', 'home', 'school']\n",
      "\n",
      "\n",
      "Musical\n",
      "['love', 'young', 'story', 'musical', 'family', 'life', 'falls', 'meets', 'married', 'named', 'three', 'very', 'daughter', 'This', 'girl', 'lives', 'live', 'woman', 'death', 'both', 'wife', 'father', 'marriage', 'together', 'takes', 'love.', 'time', 'him.', 'wealthy', 'comes']\n",
      "\n",
      "\n",
      "Animation\n",
      "['young', 'named', 'animated', 'save', 'time', 'story', 'life', 'help', 'evil', 'friends', 'girl', 'stop', 'family', 'adventure', 'mysterious', 'takes', 'Christmas', 'against', 'This', 'home', 'comes', 'away', 'city', 'tale', 'human', 'love', 'called', 'journey', 'him.', 'down']\n",
      "\n",
      "\n",
      "Thriller\n",
      "['young', 'life', 'woman', 'police', 'wife', 'group', 'takes', 'help', 'story', 'begins', 'goes', 'murder', 'down', 'family', 'time', 'people', 'lives', 'mysterious', 'love', 'then', 'death', 'home', \"he's\", 'killer', 'small', 'town', 'against', 'former', 'discovers', 'kill']\n",
      "\n",
      "\n",
      "History\n",
      "['story', 'during', 'life', 'young', 'documentary', 'This', 'American', 'true', 'were', 'World', 'against', 'political', 'British', 'history', 'lives', 'love', 'Nazi', 'tells', 'group', 'events', 'German', 'team', 'drama', 'movie', 'family', 'time', 'people', 'footage', 'military', 'would']\n",
      "\n",
      "\n",
      "Adventure\n",
      "['young', 'evil', 'life', 'help', 'against', 'story', 'save', 'family', 'named', 'time', 'mysterious', 'friends', 'adventure', 'group', 'stop', 'journey', 'father', 'discovers', 'discover', 'takes', 'three', 'battle', 'This', 'home', 'girl', 'secret', 'love', 'mission', 'friend', 'team']\n",
      "\n",
      "\n",
      "Sci-Fi\n",
      "['human', 'life', 'alien', 'time', 'group', 'stop', 'mysterious', 'young', 'help', 'people', 'scientist', 'Earth', 'team', 'year', 'deadly', 'planet', 'story', 'against', 'save', 'This', 'space', 'government', 'future', \"he's\", 'former', 'small', 'evil', 'military', 'three', 'virus']\n",
      "\n",
      "\n",
      "Documentary\n",
      "['documentary', 'life', 'This', 'story', 'look', 'American', 'interviews', 'people', 'were', 'footage', 'music', 'many', 'Documentary', 'such', 'live', 'movie', 'made', 'follows', 'during', 'history', 'like', 'director', 'including', 'films', 'takes', 'three', 'time', 'York', 'filmmaker', 'work']\n",
      "\n",
      "\n",
      "Talk-Show\n",
      "['David', 'Letterman', 'vies', 'Leno', 'manager', 'succeed', 'Johnny', 'Carson,', 'retiring', '\"The', 'Tonight', 'Show.\"']\n",
      "\n",
      "\n",
      "Short\n",
      "['short', 'young', 'story', 'life', 'This', 'then', 'time', 'made', 'love', 'comes', 'people', 'girl', 'woman', 'many', 'tells', 'animated', 'there', 'film,', 'movie', 'images', 'small', 'music', 'around', 'down', 'camera', 'documentary', \"it's\", 'home', 'very', 'wants']\n",
      "\n",
      "\n",
      "Western\n",
      "['town', 'young', 'family', 'story', 'group', 'gold', 'former', 'outlaw', 'American', 'daughter', 'Call', 'gang', 'ranch', 'woman', 'brothers', 'Missie', 'Belinda', 'Wild', 'west', 'decide', 'save', 'Mexican', 'bounty', 'beautiful', 'comes', 'legendary', 'head', 'life', 'until', 'returns']\n",
      "\n",
      "\n",
      "War\n",
      "['during', 'story', 'World', 'young', 'soldiers', 'American', 'group', 'British', 'Nazi', 'life', 'This', 'family', 'Jewish', 'German', 'were', 'war.', 'against', 'army', 'both', 'lives', 'U.S.', 'comes', 'Vietnam', 'tells', 'military', 'movie', 'soldier', 'fight', 'escape', 'takes']\n",
      "\n",
      "\n",
      "Mystery\n",
      "['young', 'woman', 'murder', 'life', 'mysterious', 'story', 'police', 'discovers', 'people', 'girl', 'death', 'lives', 'begins', 'killer', 'detective', 'wife', 'series', 'family', 'work', \"he's\", 'help', 'former', 'strange', 'goes', 'serial', 'takes', 'town', 'friend', 'husband', 'time']\n",
      "\n",
      "\n",
      "Comedy\n",
      "['life', 'young', 'love', 'family', 'story', 'help', 'woman', 'friends', 'time', 'comedy', 'lives', 'girl', 'meets', 'school', 'wants', 'best', 'each', 'takes', 'decides', 'friend', \"he's\", 'father', 'home', 'three', 'local', 'town', 'tries', 'falls', 'goes', 'This']\n",
      "\n",
      "\n",
      "Fantasy\n",
      "['young', 'life', 'love', 'evil', 'mysterious', 'story', 'time', 'help', 'girl', 'woman', 'family', 'meets', 'named', 'save', 'against', 'comes', 'takes', 'This', 'discovers', 'begins', 'lives', 'home', 'town', 'beautiful', 'ancient', 'stop', 'Christmas', 'each', 'father', 'people']\n",
      "\n",
      "\n",
      "Sport\n",
      "['team', 'story', 'football', 'life', 'school', 'coach', 'young', 'basketball', 'team.', 'player', 'against', 'soccer', 'high', 'star', 'former', 'game', 'players', 'baseball', 'American', 'hockey', 'play', 'follows', 'World', 'college', 'returns', 'true', 'This', 'were', 'team,', 'lives']\n",
      "\n",
      "\n",
      "Family\n",
      "['young', 'family', 'help', 'life', 'father', 'named', 'story', 'girl', 'parents', 'Christmas', 'save', 'home', 'school', 'friends', 'evil', 'time', 'love', 'discovers', 'little', 'mother', 'friend', 'wants', 'town', 'comes', 'very', \"he's\", 'year', 'takes', 'This', 'away']\n",
      "\n",
      "\n",
      "Music\n",
      "['music', 'love', 'young', 'life', 'story', 'rock', 'band', 'musical', 'documentary', 'singer', 'This', 'family', 'time', 'lives', 'meets', 'woman', 'falls', 'group', 'live', 'girl', 'dance', 'together', 'takes', 'death', 'both', 'three', 'concert', 'school', 'many', 'movie']\n",
      "\n",
      "\n",
      "Adult\n",
      "['porn', 'Italian', 'theaters', 'hard', 'Holmes', 'thousands', 'sexual', 'several', 'island', 'Gothic', 'horror', 'tells', 'tale', 'stops', 'remote', 'castle', 'hoping', 'medical', 'help', 'injured', 'woman,', 'inhabitants', 'mirror', 'darker', 'sides', 'woman', 'himself.', \"It's\", 'hard,', 'year']\n",
      "\n",
      "\n",
      "Horror\n",
      "['young', 'group', 'woman', 'mysterious', 'begins', 'family', 'friends', 'town', 'life', 'killer', 'evil', 'people', 'story', 'takes', 'girl', 'human', 'home', 'night', 'death', 'horror', 'time', 'school', 'then', 'turns', 'strange', 'dead', 'begin', 'discover', 'killing', 'discovers']\n",
      "\n",
      "\n",
      "Crime\n",
      "['young', 'life', 'police', 'murder', 'story', 'crime', 'help', 'gang', 'takes', 'down', 'woman', 'money', 'family', 'time', 'lives', 'drug', 'death', 'criminal', 'against', \"he's\", 'killer', 'love', 'detective', 'goes', 'local', 'him.', 'three', 'father', 'wants', 'wife']\n",
      "\n",
      "\n",
      "Drama\n",
      "['young', 'life', 'story', 'love', 'family', 'woman', 'lives', 'father', 'takes', 'girl', 'mother', 'wife', 'time', 'meets', 'friends', 'help', 'during', 'each', 'small', 'falls', 'This', 'school', 'begins', 'life.', 'home', 'people', 'three', 'town', 'decides', 'living']\n",
      "\n",
      "\n"
     ]
    }
   ],
   "source": [
    "movieGenres = {'Action','Adult','Adventure','Animation','Biography','Comedy','Crime','Documentary','Drama','Family','Fantasy',\n",
    " 'History','Horror','Music','Musical','Mystery','Romance','Sci-Fi','Short','Sport','Talk-Show','Thriller','War','Western'}\n",
    "for genre in list(movieGenres):\n",
    "    if wordAnalysis(genre, getAnalysis):\n",
    "        print(f'{genre}')\n",
    "        print(wordAnalysis(genre, getAnalysis))\n",
    "        print(\"\\n\")"
   ]
  },
  {
   "cell_type": "code",
   "execution_count": 3,
   "metadata": {},
   "outputs": [
    {
     "name": "stdout",
     "output_type": "stream",
     "text": [
      "Crime Romance Animation War Family Musical Fantasy Adult Thriller Music Documentary Talk-Show Adventure Mystery Sci-Fi Action Horror Short History Western Biography Drama Comedy Sport\n"
     ]
    }
   ],
   "source": [
    "movieGenres = {'Action','Adult','Adventure','Animation','Biography','Comedy','Crime','Documentary','Drama','Family','Fantasy',\n",
    " 'History','Horror','Music','Musical','Mystery','Romance','Sci-Fi','Short','Sport','Talk-Show','Thriller','War','Western'}\n",
    "\n",
    "string=' '.join([str(item) for item in movieGenres])\n",
    "print(string)"
   ]
  },
  {
   "cell_type": "code",
   "execution_count": 4,
   "metadata": {},
   "outputs": [
    {
     "name": "stdout",
     "output_type": "stream",
     "text": [
      "['Crime', 'Romance', 'Animation', 'War', 'Family', 'Musical', 'Fantasy', 'Adult', 'Thriller', 'Music', 'Documentary', 'Talk-Show', 'Adventure', 'Mystery', 'Sci-Fi', 'Action', 'Horror', 'Short', 'History', 'Western', 'Biography', 'Drama', 'Comedy', 'Sport']\n"
     ]
    }
   ],
   "source": [
    "ml = string.split(\" \")\n",
    "print(ml)"
   ]
  },
  {
   "cell_type": "code",
   "execution_count": 19,
   "metadata": {
    "scrolled": true
   },
   "outputs": [
    {
     "data": {
      "text/plain": [
       "['a', 'b', 'c']"
      ]
     },
     "execution_count": 19,
     "metadata": {},
     "output_type": "execute_result"
    }
   ],
   "source": [
    "liste= \"['a','b','c']\"\n",
    "x=liste.split(\"'\")\n",
    "index = 0\n",
    "listem=[]\n",
    "for i in x :\n",
    "    if (index % 2 == 1):\n",
    "        listem.append(i)\n",
    "    index = index + 1\n",
    "listem"
   ]
  },
  {
   "cell_type": "code",
   "execution_count": null,
   "metadata": {},
   "outputs": [],
   "source": []
  }
 ],
 "metadata": {
  "kernelspec": {
   "display_name": "Python 3",
   "language": "python",
   "name": "python3"
  },
  "language_info": {
   "codemirror_mode": {
    "name": "ipython",
    "version": 3
   },
   "file_extension": ".py",
   "mimetype": "text/x-python",
   "name": "python",
   "nbconvert_exporter": "python",
   "pygments_lexer": "ipython3",
   "version": "3.8.3"
  }
 },
 "nbformat": 4,
 "nbformat_minor": 4
}
